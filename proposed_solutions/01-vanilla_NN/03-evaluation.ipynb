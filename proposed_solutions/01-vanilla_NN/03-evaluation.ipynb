{
 "cells": [
  {
   "cell_type": "markdown",
   "id": "ebe87d4c",
   "metadata": {},
   "source": [
    "# Vanilla Neural Network\n",
    "I think this question is less convenient to tackle using vanilla neural network than using sequential models like RNN, LSTM, etc. This is because vanilla NN normally deals with input with **fixed length**. To accomodate our need of different length from `2` to `10`, we would have to train `9` models, each with input shape `2, 3, 4, ...`.\n",
    "\n",
    "**Note**. Creating `10-2+1 = 9` NNs is not a bad thing. Their cooperated performance might also not mediocre. It is just that I find it more challenging/rewarding to try to find a devise-once-use-everywhere solution, so I ended up spending most of the time on finding such solutions. "
   ]
  },
  {
   "cell_type": "markdown",
   "id": "1a998c8b",
   "metadata": {},
   "source": [
    "## Correction\n",
    "Actually, there exist ways to still use vanilla NN for this question. One such way is through padding. More precisely, let's take a few examples to illustrate our point:\n",
    "\n",
    "01. Input array `[0, 9, 7, 1, 2]`\n",
    "  - We may use integers $\\in {91, 92, 93, \\ldots, 98}$ to pad, whence the padded input array becomes\n",
    "  `[0, 9, 7, 1, 2, 91, 92, 93, 94, 95]`. We always pad until the padded array has length `10`.\n",
    "  - As for the corresponding output, I choose to return the permutation which make the padded input array sorted.\n",
    "  In this particular example,  that would be `[0, 3, 4, 2, 1, 5, 6, 7, 8, 9]`. Note how the last five indices\n",
    "  have not been altered at all in this permutation.\n",
    "02. Input array `[9, 0]`\n",
    "  - The padded input array would be `[9, 0, 91, 92, 93, 94, 95, 96, 97, 98]`.\n",
    "  - The output would be `[1, 0, 2, 3, 4, 5, 6, 7, 8, 9]`.\n",
    "\n",
    "This looks a little involved and artificial; nevertheless, it also brings convenience\n",
    "\n",
    "- The input and output are now both of fixed shape\n",
    "- The fact of being of fixed shape makes creating the dataset a lot more easier, (which in turn makes splitting it into Train/Validation/Test sets easier).\n",
    "\n",
    "### Correction inside correction\n",
    "We have said that we wanted to use `91..98` as padders, but, sorry, because normally we would use one-hot encoding during the dataset preparation for `X`. It's clueless how these `91..98` should be mapped. So, let's just forget the `91..98` idea, just **pad with zero vectors**."
   ]
  },
  {
   "cell_type": "code",
   "execution_count": 1,
   "id": "e966831c",
   "metadata": {},
   "outputs": [
    {
     "data": {
      "text/plain": [
       "[91, 92, 93, 94, 95, 96, 97, 98]"
      ]
     },
     "execution_count": 1,
     "metadata": {},
     "output_type": "execute_result"
    }
   ],
   "source": [
    "padders = list(range(91, 98+1))\n",
    "padders"
   ]
  },
  {
   "cell_type": "code",
   "execution_count": 2,
   "id": "76f132ed",
   "metadata": {},
   "outputs": [],
   "source": [
    "import tensorflow as tf\n",
    "import tensorflow.keras as keras\n",
    "import numpy as np\n",
    "from functools import reduce\n",
    "from itertools import combinations, permutations\n",
    "from math import factorial"
   ]
  },
  {
   "cell_type": "markdown",
   "id": "ef5dcfb8",
   "metadata": {},
   "source": [
    "The following `X` will be our dataset (including training/validation/test sets)."
   ]
  },
  {
   "cell_type": "code",
   "execution_count": 3,
   "id": "5497823e",
   "metadata": {},
   "outputs": [
    {
     "data": {
      "text/plain": [
       "9864090"
      ]
     },
     "execution_count": 3,
     "metadata": {},
     "output_type": "execute_result"
    }
   ],
   "source": [
    "n_classes = 10\n",
    "max_length = 10\n",
    "n_instances = sum([reduce(lambda x, y: x*y, range(n_classes,n_classes-length,-1)) for length in range(2, max_length+1)])\n",
    "n_instances"
   ]
  },
  {
   "cell_type": "code",
   "execution_count": 4,
   "id": "30de804f",
   "metadata": {},
   "outputs": [],
   "source": [
    "X = np.zeros((n_instances, max_length, n_classes), dtype=np.float32)"
   ]
  },
  {
   "cell_type": "markdown",
   "id": "d01e1297",
   "metadata": {},
   "source": [
    "I have said in `README.md` that CNN is of little use here because we are not dealing with images. However, the shape of `X` does look like a single-channel image. Still, using CNN to extract local features makes little sense, so we will probably stick to our plan -- Maybe the first layer of our vanilla NN would be a `keras.layers.Flatten` and followed by a few fully connected layers."
   ]
  },
  {
   "cell_type": "code",
   "execution_count": 5,
   "id": "cc624987",
   "metadata": {},
   "outputs": [
    {
     "data": {
      "text/plain": [
       "array([2, 3, 1, 0])"
      ]
     },
     "execution_count": 5,
     "metadata": {},
     "output_type": "execute_result"
    }
   ],
   "source": [
    "np.argsort([9,5,0,3])"
   ]
  },
  {
   "cell_type": "code",
   "execution_count": 6,
   "id": "384652df",
   "metadata": {},
   "outputs": [
    {
     "data": {
      "text/plain": [
       "array([0, 3, 5, 9])"
      ]
     },
     "execution_count": 6,
     "metadata": {},
     "output_type": "execute_result"
    }
   ],
   "source": [
    "A = np.array([9,5,0,3])\n",
    "A[np.argsort(A)]"
   ]
  },
  {
   "cell_type": "code",
   "execution_count": 7,
   "id": "77e645ee",
   "metadata": {},
   "outputs": [],
   "source": [
    "def one_hot(array, depth=n_classes):\n",
    "    \"\"\"\n",
    "    array is an ndarray of shape (None,)\n",
    "    \"\"\"\n",
    "    return np.eye(depth)[array, :]"
   ]
  },
  {
   "cell_type": "code",
   "execution_count": 8,
   "id": "33d2f35c",
   "metadata": {},
   "outputs": [
    {
     "data": {
      "text/plain": [
       "array([[0., 0., 0., 0., 0., 0., 0., 0., 0., 1.],\n",
       "       [0., 0., 0., 0., 0., 1., 0., 0., 0., 0.],\n",
       "       [1., 0., 0., 0., 0., 0., 0., 0., 0., 0.],\n",
       "       [0., 0., 0., 1., 0., 0., 0., 0., 0., 0.]])"
      ]
     },
     "execution_count": 8,
     "metadata": {},
     "output_type": "execute_result"
    }
   ],
   "source": [
    "one_hot(A)"
   ]
  },
  {
   "cell_type": "code",
   "execution_count": 9,
   "id": "f039b262",
   "metadata": {},
   "outputs": [
    {
     "data": {
      "text/plain": [
       "<tf.Tensor: shape=(4, 10), dtype=float32, numpy=\n",
       "array([[0., 0., 0., 0., 0., 0., 0., 0., 0., 1.],\n",
       "       [0., 0., 0., 0., 0., 1., 0., 0., 0., 0.],\n",
       "       [1., 0., 0., 0., 0., 0., 0., 0., 0., 0.],\n",
       "       [0., 0., 0., 1., 0., 0., 0., 0., 0., 0.]], dtype=float32)>"
      ]
     },
     "execution_count": 9,
     "metadata": {},
     "output_type": "execute_result"
    }
   ],
   "source": [
    "tf.one_hot(A, depth=10)"
   ]
  },
  {
   "cell_type": "code",
   "execution_count": 10,
   "id": "71d10ef2",
   "metadata": {},
   "outputs": [],
   "source": [
    "# labels\n",
    "Y = np.empty((n_instances, max_length), dtype=np.float32)  "
   ]
  },
  {
   "cell_type": "code",
   "execution_count": 11,
   "id": "36f8334a",
   "metadata": {},
   "outputs": [
    {
     "data": {
      "text/plain": [
       "array([1, 2, 3, 4, 5, 6])"
      ]
     },
     "execution_count": 11,
     "metadata": {},
     "output_type": "execute_result"
    }
   ],
   "source": [
    "np.concatenate(([1,2,3], [4,5,6]))"
   ]
  },
  {
   "cell_type": "code",
   "execution_count": 12,
   "id": "9c196fe9",
   "metadata": {},
   "outputs": [
    {
     "data": {
      "text/plain": [
       "array([1, 0, 3, 4, 2, 5, 6, 7, 8, 9])"
      ]
     },
     "execution_count": 12,
     "metadata": {},
     "output_type": "execute_result"
    }
   ],
   "source": [
    "p = (4,3,9,7,8)\n",
    "length = len(p)\n",
    "np.concatenate((np.argsort(p), np.arange(length, max_length)))"
   ]
  },
  {
   "cell_type": "raw",
   "id": "dcdfdad9",
   "metadata": {},
   "source": [
    "from tqdm import tqdm"
   ]
  },
  {
   "cell_type": "code",
   "execution_count": 13,
   "id": "13e16e22",
   "metadata": {},
   "outputs": [
    {
     "name": "stdout",
     "output_type": "stream",
     "text": [
      "CPU times: user 2min 27s, sys: 1.17 s, total: 2min 29s\n",
      "Wall time: 2min 29s\n"
     ]
    }
   ],
   "source": [
    "%%time\n",
    "X[...] = 0\n",
    "S = set(range(0, 9+1))\n",
    "index_instance = 0\n",
    "#for length in tqdm(range(2, max_length+1)):\n",
    "for length in range(2, max_length+1):    \n",
    "    n_permutations = factorial(length)\n",
    "    #n_combinations = n_instances // n_permutations\n",
    "    #for i, c in enumerate(combinations(S, length)):\n",
    "    for c in combinations(S, length):\n",
    "        #for j, p in enumerate(permutations(c)):\n",
    "        for p in permutations(c):\n",
    "            #print(f\"(index_instance/n_instances = {index_instance}/{n_instances})\", end=\"\\r\")\n",
    "            #print(f\"np.array(p) = {np.array(p)}\")\n",
    "            X[index_instance, :length, :] = one_hot(np.array(p))#[..., np.newaxis]\n",
    "            Y[index_instance, :] = np.concatenate((np.argsort(p), np.arange(length, max_length)))\n",
    "            #print(f\"\"\"\n",
    "            #(index_instance/n_instances = {index_instance}/{n_instances})\n",
    "            #x = {one_hot(np.array(p))}\n",
    "            #y = {np.concatenate((np.argsort(p), np.arange(length, max_length)))}\n",
    "            #\"\"\", end=\"\\r\")\n",
    "            index_instance += 1"
   ]
  },
  {
   "cell_type": "markdown",
   "id": "3a8fcd96",
   "metadata": {},
   "source": [
    "**(?)** Improvement. The above construction of `X, Y` takes a little long (6min on Thinkpad X200), can consider using concurrent programming."
   ]
  },
  {
   "cell_type": "code",
   "execution_count": 14,
   "id": "844ac1c8",
   "metadata": {
    "scrolled": false
   },
   "outputs": [
    {
     "name": "stdout",
     "output_type": "stream",
     "text": [
      "X[index] =\n",
      "[[0. 0. 0. 0. 1. 0. 0. 0. 0. 0.]\n",
      " [0. 0. 0. 0. 0. 0. 0. 1. 0. 0.]\n",
      " [0. 0. 1. 0. 0. 0. 0. 0. 0. 0.]\n",
      " [0. 0. 0. 0. 0. 0. 0. 0. 0. 1.]\n",
      " [0. 0. 0. 0. 0. 0. 1. 0. 0. 0.]\n",
      " [1. 0. 0. 0. 0. 0. 0. 0. 0. 0.]\n",
      " [0. 0. 0. 0. 0. 1. 0. 0. 0. 0.]\n",
      " [0. 0. 0. 0. 0. 0. 0. 0. 1. 0.]\n",
      " [0. 1. 0. 0. 0. 0. 0. 0. 0. 0.]\n",
      " [0. 0. 0. 0. 0. 0. 0. 0. 0. 0.]]\n",
      "Y[index] = [5. 8. 2. 0. 6. 4. 1. 7. 3. 9.]\n"
     ]
    }
   ],
   "source": [
    "index = half = n_instances // 2\n",
    "print(f\"X[index] =\\n{X[index]}\")\n",
    "print(f\"Y[index] = {Y[index]}\")"
   ]
  },
  {
   "cell_type": "code",
   "execution_count": 15,
   "id": "c759ed53",
   "metadata": {},
   "outputs": [
    {
     "name": "stdout",
     "output_type": "stream",
     "text": [
      "X[index] =\n",
      "[[0. 0. 0. 0. 0. 0. 0. 0. 0. 1.]\n",
      " [0. 0. 0. 0. 0. 0. 0. 0. 1. 0.]\n",
      " [0. 0. 0. 0. 0. 0. 0. 1. 0. 0.]\n",
      " [0. 0. 0. 0. 0. 0. 1. 0. 0. 0.]\n",
      " [0. 0. 0. 0. 0. 1. 0. 0. 0. 0.]\n",
      " [0. 0. 0. 0. 1. 0. 0. 0. 0. 0.]\n",
      " [0. 0. 0. 1. 0. 0. 0. 0. 0. 0.]\n",
      " [0. 0. 1. 0. 0. 0. 0. 0. 0. 0.]\n",
      " [0. 1. 0. 0. 0. 0. 0. 0. 0. 0.]\n",
      " [1. 0. 0. 0. 0. 0. 0. 0. 0. 0.]]\n",
      "Y[index] = [9. 8. 7. 6. 5. 4. 3. 2. 1. 0.]\n"
     ]
    }
   ],
   "source": [
    "index = -1\n",
    "print(f\"X[index] =\\n{X[index]}\")\n",
    "print(f\"Y[index] = {Y[index]}\")"
   ]
  },
  {
   "cell_type": "code",
   "execution_count": 16,
   "id": "ff072d45",
   "metadata": {},
   "outputs": [
    {
     "name": "stdout",
     "output_type": "stream",
     "text": [
      "X[index] =\n",
      "[[1. 0. 0. 0. 0. 0. 0. 0. 0. 0.]\n",
      " [0. 0. 1. 0. 0. 0. 0. 0. 0. 0.]\n",
      " [0. 0. 0. 0. 0. 0. 0. 0. 0. 0.]\n",
      " [0. 0. 0. 0. 0. 0. 0. 0. 0. 0.]\n",
      " [0. 0. 0. 0. 0. 0. 0. 0. 0. 0.]\n",
      " [0. 0. 0. 0. 0. 0. 0. 0. 0. 0.]\n",
      " [0. 0. 0. 0. 0. 0. 0. 0. 0. 0.]\n",
      " [0. 0. 0. 0. 0. 0. 0. 0. 0. 0.]\n",
      " [0. 0. 0. 0. 0. 0. 0. 0. 0. 0.]\n",
      " [0. 0. 0. 0. 0. 0. 0. 0. 0. 0.]]\n",
      "Y[index] = [0. 1. 2. 3. 4. 5. 6. 7. 8. 9.]\n"
     ]
    }
   ],
   "source": [
    "index = 2\n",
    "print(f\"X[index] =\\n{X[index]}\")\n",
    "print(f\"Y[index] = {Y[index]}\")"
   ]
  },
  {
   "cell_type": "markdown",
   "id": "1490532c",
   "metadata": {},
   "source": [
    "As we can see: Our dataset is more or less correct now, except that `X` build quite slow. A threaded, or multi-process version of it will be desirable."
   ]
  },
  {
   "cell_type": "markdown",
   "id": "f54656bb",
   "metadata": {},
   "source": [
    "### <s>Shuffling</s>\n",
    "We'd better shuffle `X` and `Y` (together)."
   ]
  },
  {
   "cell_type": "raw",
   "id": "2b6d222e",
   "metadata": {},
   "source": [
    "help(np.random.shuffle)"
   ]
  },
  {
   "cell_type": "code",
   "execution_count": 17,
   "id": "5f72da81",
   "metadata": {},
   "outputs": [
    {
     "data": {
      "text/plain": [
       "array([[ 0,  1],\n",
       "       [ 2,  3],\n",
       "       [ 4,  5],\n",
       "       [ 6,  7],\n",
       "       [ 8,  9],\n",
       "       [10, 11],\n",
       "       [12, 13]])"
      ]
     },
     "execution_count": 17,
     "metadata": {},
     "output_type": "execute_result"
    }
   ],
   "source": [
    "A = np.arange(7*2).reshape((7,2))\n",
    "A"
   ]
  },
  {
   "cell_type": "code",
   "execution_count": 18,
   "id": "45016d15",
   "metadata": {},
   "outputs": [
    {
     "data": {
      "text/plain": [
       "array([[12, 13],\n",
       "       [ 6,  7],\n",
       "       [10, 11],\n",
       "       [ 0,  1],\n",
       "       [ 4,  5],\n",
       "       [ 2,  3],\n",
       "       [ 8,  9]])"
      ]
     },
     "execution_count": 18,
     "metadata": {},
     "output_type": "execute_result"
    }
   ],
   "source": [
    "np.random.shuffle(A)\n",
    "A"
   ]
  },
  {
   "cell_type": "raw",
   "id": "df0b8f8f",
   "metadata": {},
   "source": [
    "# This is bad, should have shuffle X and Y altogether\n",
    "np.random.shuffle(X)"
   ]
  },
  {
   "cell_type": "raw",
   "id": "indirect-western",
   "metadata": {},
   "source": [
    "#shuffled_indices = "
   ]
  },
  {
   "cell_type": "markdown",
   "id": "3429042a",
   "metadata": {},
   "source": [
    "Well, wait a minute, actually `train_test_split` below already incorporates shuffling mechanism. Let's not make additional shuffling here."
   ]
  },
  {
   "cell_type": "markdown",
   "id": "453a2740",
   "metadata": {},
   "source": [
    "### Train/Validation/Test Split"
   ]
  },
  {
   "cell_type": "code",
   "execution_count": 19,
   "id": "968ed611",
   "metadata": {},
   "outputs": [],
   "source": [
    "from sklearn.model_selection import train_test_split"
   ]
  },
  {
   "cell_type": "code",
   "execution_count": 20,
   "id": "acbff24e",
   "metadata": {},
   "outputs": [],
   "source": [
    "train_test_split?"
   ]
  },
  {
   "cell_type": "code",
   "execution_count": 21,
   "id": "2913c868",
   "metadata": {},
   "outputs": [
    {
     "data": {
      "text/plain": [
       "((7891272, 10, 10), (1972818, 10, 10))"
      ]
     },
     "execution_count": 21,
     "metadata": {},
     "output_type": "execute_result"
    }
   ],
   "source": [
    "X_train_val, X_test, Y_train_val, Y_test = train_test_split(X, Y, test_size=0.2)\n",
    "X_train_val.shape, X_test.shape"
   ]
  },
  {
   "cell_type": "code",
   "execution_count": 22,
   "id": "d9598620",
   "metadata": {},
   "outputs": [
    {
     "data": {
      "text/plain": [
       "0"
      ]
     },
     "execution_count": 22,
     "metadata": {},
     "output_type": "execute_result"
    }
   ],
   "source": [
    "(X_train_val.shape[0] + X_test.shape[0]) - n_instances"
   ]
  },
  {
   "cell_type": "code",
   "execution_count": 23,
   "id": "7defd9c4",
   "metadata": {},
   "outputs": [
    {
     "data": {
      "text/plain": [
       "(9864090, 10)"
      ]
     },
     "execution_count": 23,
     "metadata": {},
     "output_type": "execute_result"
    }
   ],
   "source": [
    "Y.shape"
   ]
  },
  {
   "cell_type": "code",
   "execution_count": null,
   "id": "9b36cc76",
   "metadata": {},
   "outputs": [],
   "source": []
  },
  {
   "cell_type": "markdown",
   "id": "1e1c4474",
   "metadata": {},
   "source": [
    "## Model"
   ]
  },
  {
   "cell_type": "code",
   "execution_count": 24,
   "id": "397aff07",
   "metadata": {},
   "outputs": [
    {
     "data": {
      "text/plain": [
       "100"
      ]
     },
     "execution_count": 24,
     "metadata": {},
     "output_type": "execute_result"
    }
   ],
   "source": [
    "np.product(X.shape[1:])"
   ]
  },
  {
   "cell_type": "code",
   "execution_count": 25,
   "id": "6b0c182b",
   "metadata": {},
   "outputs": [],
   "source": [
    "#https://keras.io/api/layers/reshaping_layers/reshape/\n",
    "#https://keras.io/api/layers/activation_layers/softmax/\n",
    "model = keras.models.Sequential([\n",
    "    keras.layers.Flatten(input_shape=X.shape[1:]),\n",
    "    #keras.layers.Dense(np.product(X.shape[1:]), activation=\"relu\"),\n",
    "    keras.layers.Dense(2*np.product(X.shape[1:]), activation=\"relu\"),\n",
    "    keras.layers.Dense(np.product(X.shape[1:])),\n",
    "    keras.layers.Reshape(X.shape[1:]),\n",
    "    keras.layers.Softmax(axis=-1),\n",
    "])\n",
    "\n",
    "model.compile(loss=\"sparse_categorical_crossentropy\", optimizer=\"adam\")"
   ]
  },
  {
   "cell_type": "code",
   "execution_count": 26,
   "id": "f1aa31c1",
   "metadata": {},
   "outputs": [
    {
     "name": "stdout",
     "output_type": "stream",
     "text": [
      "Model: \"sequential\"\n",
      "_________________________________________________________________\n",
      "Layer (type)                 Output Shape              Param #   \n",
      "=================================================================\n",
      "flatten (Flatten)            (None, 100)               0         \n",
      "_________________________________________________________________\n",
      "dense (Dense)                (None, 200)               20200     \n",
      "_________________________________________________________________\n",
      "dense_1 (Dense)              (None, 100)               20100     \n",
      "_________________________________________________________________\n",
      "reshape (Reshape)            (None, 10, 10)            0         \n",
      "_________________________________________________________________\n",
      "softmax (Softmax)            (None, 10, 10)            0         \n",
      "=================================================================\n",
      "Total params: 40,300\n",
      "Trainable params: 40,300\n",
      "Non-trainable params: 0\n",
      "_________________________________________________________________\n"
     ]
    }
   ],
   "source": [
    "model.summary()"
   ]
  },
  {
   "cell_type": "code",
   "execution_count": 27,
   "id": "6d06a1a6",
   "metadata": {},
   "outputs": [
    {
     "name": "stdout",
     "output_type": "stream",
     "text": [
      "Epoch 1/3\n",
      "197282/197282 [==============================] - 373s 2ms/step - loss: 0.0297 - val_loss: 3.4396e-04\n",
      "Epoch 2/3\n",
      "197282/197282 [==============================] - 363s 2ms/step - loss: 2.4963e-04 - val_loss: 1.9813e-04\n",
      "Epoch 3/3\n",
      "197282/197282 [==============================] - 359s 2ms/step - loss: 1.3780e-04 - val_loss: 1.3065e-04\n"
     ]
    },
    {
     "data": {
      "text/plain": [
       "<tensorflow.python.keras.callbacks.History at 0x7f1ab05fb9d0>"
      ]
     },
     "execution_count": 27,
     "metadata": {},
     "output_type": "execute_result"
    }
   ],
   "source": [
    "# add some callbacks before beginning training.\n",
    "checkpoint_cb = keras.callbacks.ModelCheckpoint(\"vanilla_NN_model.h5\")\n",
    "\n",
    "model.fit(X_train_val,\n",
    "         Y_train_val,\n",
    "         #steps_per_epoch=60_000,\n",
    "         epochs=3,\n",
    "         validation_split=0.2,\n",
    "         verbose=True,\n",
    "         callbacks=[checkpoint_cb],\n",
    ")"
   ]
  },
  {
   "cell_type": "code",
   "execution_count": 28,
   "id": "5bead7b4",
   "metadata": {},
   "outputs": [
    {
     "name": "stdout",
     "output_type": "stream",
     "text": [
      "61651/61651 [==============================] - 87s 1ms/step - loss: 1.2123e-04\n"
     ]
    },
    {
     "data": {
      "text/plain": [
       "0.0001212266506627202"
      ]
     },
     "execution_count": 28,
     "metadata": {},
     "output_type": "execute_result"
    }
   ],
   "source": [
    "model.evaluate(X_test, Y_test)"
   ]
  },
  {
   "cell_type": "code",
   "execution_count": 30,
   "id": "confident-preservation",
   "metadata": {},
   "outputs": [
    {
     "data": {
      "text/plain": [
       "(1, 10, 10)"
      ]
     },
     "execution_count": 30,
     "metadata": {},
     "output_type": "execute_result"
    }
   ],
   "source": [
    "(1, *X.shape[1:])"
   ]
  },
  {
   "cell_type": "code",
   "execution_count": 29,
   "id": "arctic-specification",
   "metadata": {},
   "outputs": [
    {
     "data": {
      "text/plain": [
       "array([[1., 0., 0., 0., 0., 0., 0., 0., 0., 0.],\n",
       "       [0., 0., 0., 0., 0., 0., 0., 0., 0., 1.],\n",
       "       [0., 0., 0., 0., 0., 0., 0., 1., 0., 0.],\n",
       "       [0., 0., 1., 0., 0., 0., 0., 0., 0., 0.]])"
      ]
     },
     "execution_count": 29,
     "metadata": {},
     "output_type": "execute_result"
    }
   ],
   "source": [
    "array = [0, 9, 7, 2]\n",
    "one_hot(array)"
   ]
  },
  {
   "cell_type": "code",
   "execution_count": 31,
   "id": "established-tournament",
   "metadata": {},
   "outputs": [
    {
     "data": {
      "text/plain": [
       "array([[[1., 0., 0., 0., 0., 0., 0., 0., 0., 0.],\n",
       "        [0., 0., 0., 0., 0., 0., 0., 0., 0., 1.],\n",
       "        [0., 0., 0., 0., 0., 0., 0., 1., 0., 0.],\n",
       "        [0., 0., 1., 0., 0., 0., 0., 0., 0., 0.],\n",
       "        [0., 0., 0., 0., 0., 0., 0., 0., 0., 0.],\n",
       "        [0., 0., 0., 0., 0., 0., 0., 0., 0., 0.],\n",
       "        [0., 0., 0., 0., 0., 0., 0., 0., 0., 0.],\n",
       "        [0., 0., 0., 0., 0., 0., 0., 0., 0., 0.],\n",
       "        [0., 0., 0., 0., 0., 0., 0., 0., 0., 0.],\n",
       "        [0., 0., 0., 0., 0., 0., 0., 0., 0., 0.]]], dtype=float32)"
      ]
     },
     "execution_count": 31,
     "metadata": {},
     "output_type": "execute_result"
    }
   ],
   "source": [
    "input_array = np.zeros((1, *X.shape[1:]), dtype=np.float32)\n",
    "array = [0, 9, 7, 2]\n",
    "input_array[0, :len(array), :] = one_hot(array)\n",
    "input_array"
   ]
  },
  {
   "cell_type": "code",
   "execution_count": 32,
   "id": "assisted-airport",
   "metadata": {},
   "outputs": [
    {
     "data": {
      "text/plain": [
       "(1, 10, 10)"
      ]
     },
     "execution_count": 32,
     "metadata": {},
     "output_type": "execute_result"
    }
   ],
   "source": [
    "input_array.shape"
   ]
  },
  {
   "cell_type": "code",
   "execution_count": 33,
   "id": "danish-castle",
   "metadata": {},
   "outputs": [
    {
     "data": {
      "text/plain": [
       "array([[[1.00000000e+00, 1.25839168e-32, 3.87253975e-26, 3.14080867e-14,\n",
       "         3.80954247e-30, 7.10799203e-30, 9.56593145e-25, 7.84007830e-32,\n",
       "         3.26731961e-33, 0.00000000e+00],\n",
       "        [1.64768271e-14, 2.31965217e-07, 7.14659146e-15, 9.99994993e-01,\n",
       "         4.71040858e-06, 5.90644129e-19, 4.78312472e-20, 1.64960406e-10,\n",
       "         1.25448426e-13, 2.96435836e-31],\n",
       "        [5.37284990e-08, 6.20236911e-04, 9.99180496e-01, 1.99015878e-04,\n",
       "         1.20307050e-07, 1.10409848e-09, 5.87335666e-11, 1.56619474e-11,\n",
       "         2.31073743e-15, 4.79669993e-16],\n",
       "        [6.45592927e-14, 9.97052312e-01, 2.94772349e-03, 5.21008098e-11,\n",
       "         2.55477497e-11, 2.37600467e-14, 1.03858276e-16, 3.04541167e-16,\n",
       "         6.01100777e-20, 1.02113676e-15],\n",
       "        [6.92680380e-24, 8.79716885e-04, 1.48970070e-09, 2.28879119e-21,\n",
       "         9.99120295e-01, 5.77007379e-26, 4.24751751e-25, 6.44041290e-21,\n",
       "         6.41836234e-14, 1.79858847e-24],\n",
       "        [0.00000000e+00, 2.62699312e-29, 1.93556767e-22, 1.27289370e-34,\n",
       "         1.05970780e-18, 1.00000000e+00, 3.18101740e-20, 1.31042103e-28,\n",
       "         2.00243802e-32, 0.00000000e+00],\n",
       "        [0.00000000e+00, 1.67293710e-13, 1.30017975e-34, 0.00000000e+00,\n",
       "         0.00000000e+00, 8.17814291e-19, 1.00000000e+00, 2.18136016e-31,\n",
       "         0.00000000e+00, 2.70946215e-37],\n",
       "        [0.00000000e+00, 8.64725513e-11, 0.00000000e+00, 0.00000000e+00,\n",
       "         0.00000000e+00, 1.20706830e-37, 9.38515165e-21, 1.00000000e+00,\n",
       "         1.04079209e-22, 0.00000000e+00],\n",
       "        [0.00000000e+00, 9.41673478e-31, 0.00000000e+00, 0.00000000e+00,\n",
       "         0.00000000e+00, 0.00000000e+00, 0.00000000e+00, 0.00000000e+00,\n",
       "         1.00000000e+00, 0.00000000e+00],\n",
       "        [0.00000000e+00, 7.79150643e-33, 0.00000000e+00, 0.00000000e+00,\n",
       "         0.00000000e+00, 4.42854540e-38, 0.00000000e+00, 0.00000000e+00,\n",
       "         0.00000000e+00, 1.00000000e+00]]], dtype=float32)"
      ]
     },
     "execution_count": 33,
     "metadata": {},
     "output_type": "execute_result"
    }
   ],
   "source": [
    "y_pred = model.predict(input_array)\n",
    "y_pred"
   ]
  },
  {
   "cell_type": "code",
   "execution_count": 84,
   "id": "innocent-leadership",
   "metadata": {},
   "outputs": [
    {
     "data": {
      "text/plain": [
       "((1, 10, 10), (1972818, 10))"
      ]
     },
     "execution_count": 84,
     "metadata": {},
     "output_type": "execute_result"
    }
   ],
   "source": [
    "y_pred.shape, Y_test.shape"
   ]
  },
  {
   "cell_type": "code",
   "execution_count": 35,
   "id": "micro-resolution",
   "metadata": {},
   "outputs": [
    {
     "data": {
      "text/plain": [
       "array([[0, 3, 2, 1, 4, 5, 6, 7, 8, 9]])"
      ]
     },
     "execution_count": 35,
     "metadata": {},
     "output_type": "execute_result"
    }
   ],
   "source": [
    "indices = np.argmax(y_pred, axis=-1)\n",
    "indices"
   ]
  },
  {
   "cell_type": "code",
   "execution_count": 37,
   "id": "alternate-clark",
   "metadata": {},
   "outputs": [
    {
     "data": {
      "text/plain": [
       "array([0, 2, 7, 9])"
      ]
     },
     "execution_count": 37,
     "metadata": {},
     "output_type": "execute_result"
    }
   ],
   "source": [
    "np.array(array)[indices[0][:len(array)]]"
   ]
  },
  {
   "cell_type": "markdown",
   "id": "endless-watch",
   "metadata": {},
   "source": [
    "## Evaluation on `X_test`\n",
    "We certainly would like to have performance measures like accuracy, precision/recall, etc. But we must first write some convenience functions to facilitate the operations."
   ]
  },
  {
   "cell_type": "code",
   "execution_count": 38,
   "id": "medical-basin",
   "metadata": {},
   "outputs": [
    {
     "data": {
      "text/plain": [
       "array([[0., 0., 0., 1., 0., 0., 0., 0., 0., 0.],\n",
       "       [0., 0., 0., 0., 0., 0., 1., 0., 0., 0.],\n",
       "       [0., 0., 0., 0., 0., 0., 0., 1., 0., 0.],\n",
       "       [1., 0., 0., 0., 0., 0., 0., 0., 0., 0.],\n",
       "       [0., 0., 0., 0., 0., 1., 0., 0., 0., 0.],\n",
       "       [0., 0., 0., 0., 0., 0., 0., 0., 1., 0.],\n",
       "       [0., 0., 1., 0., 0., 0., 0., 0., 0., 0.],\n",
       "       [0., 0., 0., 0., 1., 0., 0., 0., 0., 0.],\n",
       "       [0., 0., 0., 0., 0., 0., 0., 0., 0., 1.],\n",
       "       [0., 1., 0., 0., 0., 0., 0., 0., 0., 0.]], dtype=float32)"
      ]
     },
     "execution_count": 38,
     "metadata": {},
     "output_type": "execute_result"
    }
   ],
   "source": [
    "X_test[0]"
   ]
  },
  {
   "cell_type": "code",
   "execution_count": 39,
   "id": "stable-graphics",
   "metadata": {},
   "outputs": [
    {
     "data": {
      "text/plain": [
       "array([3, 6, 7, 0, 5, 8, 2, 4, 9, 1])"
      ]
     },
     "execution_count": 39,
     "metadata": {},
     "output_type": "execute_result"
    }
   ],
   "source": [
    "np.argmax(X_test[0], axis=-1)"
   ]
  },
  {
   "cell_type": "code",
   "execution_count": 46,
   "id": "minute-madrid",
   "metadata": {},
   "outputs": [
    {
     "data": {
      "text/plain": [
       "array([0. , 0.1, 1.1])"
      ]
     },
     "execution_count": 46,
     "metadata": {},
     "output_type": "execute_result"
    }
   ],
   "source": [
    "np.sum([[0, 0, 0.2], [0, 0.1, 0.9]], axis=0)"
   ]
  },
  {
   "cell_type": "code",
   "execution_count": 47,
   "id": "conscious-idaho",
   "metadata": {},
   "outputs": [
    {
     "data": {
      "text/plain": [
       "array([0.2, 1. ])"
      ]
     },
     "execution_count": 47,
     "metadata": {},
     "output_type": "execute_result"
    }
   ],
   "source": [
    "np.sum([[0, 0, 0.2], [0, 0.1, 0.9]], axis=-1)"
   ]
  },
  {
   "cell_type": "markdown",
   "id": "relevant-canvas",
   "metadata": {},
   "source": [
    "As we can see, `X_test` in this form is inconvenient for us to calculate the accuracy, or even to just to convert it back to the corresponding array."
   ]
  },
  {
   "cell_type": "code",
   "execution_count": 40,
   "id": "billion-easter",
   "metadata": {},
   "outputs": [
    {
     "data": {
      "text/plain": [
       "1972818"
      ]
     },
     "execution_count": 40,
     "metadata": {},
     "output_type": "execute_result"
    }
   ],
   "source": [
    "X_test.shape[0]"
   ]
  },
  {
   "cell_type": "code",
   "execution_count": 41,
   "id": "graduate-relations",
   "metadata": {},
   "outputs": [
    {
     "data": {
      "text/plain": [
       "array([3., 9., 6., 0., 7., 4., 1., 2., 5., 8.], dtype=float32)"
      ]
     },
     "execution_count": 41,
     "metadata": {},
     "output_type": "execute_result"
    }
   ],
   "source": [
    "Y_test[0]"
   ]
  },
  {
   "cell_type": "code",
   "execution_count": 43,
   "id": "alternative-crazy",
   "metadata": {},
   "outputs": [
    {
     "data": {
      "text/plain": [
       "array([0, 1, 2, 3, 4, 5, 6, 7, 8, 9])"
      ]
     },
     "execution_count": 43,
     "metadata": {},
     "output_type": "execute_result"
    }
   ],
   "source": [
    "np.argmax(X_test[0], axis=-1)[Y_test[0].astype(int)]"
   ]
  },
  {
   "cell_type": "code",
   "execution_count": 73,
   "id": "colored-repository",
   "metadata": {},
   "outputs": [],
   "source": [
    "class Sorter:\n",
    "    def __init__(self, model):\n",
    "        self.model = model\n",
    "\n",
    "    def prettier(self, x, y):\n",
    "        \"\"\"\n",
    "        x.shape = (10,10)\n",
    "        \"\"\"\n",
    "        somme = np.sum(x, axis=-1)\n",
    "        first_zero_index = -1\n",
    "        for i, s in enumerate(somme):\n",
    "            if s > 10**(-6):\n",
    "                first_zero_index = i\n",
    "        if first_zero_index == -1:\n",
    "            length = 10\n",
    "        else:\n",
    "            length = first_zero_index + 1\n",
    "        xx = np.argmax(x[:length], axis=-1)\n",
    "        sort_indices = y.astype(int)[:length]\n",
    "        yy = xx[sort_indices]\n",
    "        return xx, yy"
   ]
  },
  {
   "cell_type": "code",
   "execution_count": 81,
   "id": "graphic-agent",
   "metadata": {},
   "outputs": [
    {
     "name": "stdout",
     "output_type": "stream",
     "text": [
      "i = 1011350\n"
     ]
    },
    {
     "data": {
      "text/plain": [
       "(array([1, 7, 0, 5, 2, 9, 6, 8]), array([0, 1, 2, 5, 6, 7, 8, 9]))"
      ]
     },
     "execution_count": 81,
     "metadata": {},
     "output_type": "execute_result"
    }
   ],
   "source": [
    "i = np.random.choice(range(X_test.shape[0]))\n",
    "print(f\"i = {i}\")\n",
    "x, y = X_test[i], Y_test[i]\n",
    "sorter = Sorter(model)\n",
    "sorter.prettier(x, y)"
   ]
  },
  {
   "cell_type": "code",
   "execution_count": 85,
   "id": "korean-creature",
   "metadata": {},
   "outputs": [],
   "source": [
    "class Sorter:\n",
    "    def __init__(self, model):\n",
    "        self.model = model\n",
    "\n",
    "    def lenlen(self, x):\n",
    "        somme = np.sum(x, axis=-1)\n",
    "        first_zero_index = -1\n",
    "        for i, s in enumerate(somme):\n",
    "            if s > 10**(-6):\n",
    "                first_zero_index = i\n",
    "        if first_zero_index == -1:\n",
    "            length = 10\n",
    "        else:\n",
    "            length = first_zero_index + 1\n",
    "        return length\n",
    "\n",
    "    def prettier(self, x, y):\n",
    "        \"\"\"\n",
    "        x.shape = (10,10)\n",
    "        \"\"\"\n",
    "        length = self.lenlen(x)\n",
    "        xx = np.argmax(x[:length], axis=-1)\n",
    "        sort_indices = y.astype(int)[:length]\n",
    "        yy = xx[sort_indices]\n",
    "        return xx, yy\n",
    "    \n",
    "    def evaluate(self, X, Y):\n",
    "        Y_pred = self.model.predict(X)  # of shape (n_instances, 10, 10)\n",
    "        Y = Y.astype(int)               # of shape (n_instances, 10)\n",
    "        m = X.shape[0]\n",
    "        n_correct = 0\n",
    "        for i, x in enumerate(X):\n",
    "            length = self.lenlen(x)\n",
    "            y_pred = Y_pred[i]\n",
    "            y_pred_sparse = np.argmax(y_pred, axis=-1)\n",
    "            n_correct += np.array_equal(Y[i], y_pred_sparse)\n",
    "        print(f\"acc = {n_correct/m}\")\n"
   ]
  },
  {
   "cell_type": "code",
   "execution_count": 86,
   "id": "logical-slide",
   "metadata": {},
   "outputs": [],
   "source": [
    "sorter = Sorter(model)"
   ]
  },
  {
   "cell_type": "code",
   "execution_count": null,
   "id": "vanilla-savings",
   "metadata": {},
   "outputs": [],
   "source": [
    "sorter.evaluate(X_test, Y_test)"
   ]
  },
  {
   "cell_type": "code",
   "execution_count": null,
   "id": "western-romania",
   "metadata": {},
   "outputs": [],
   "source": []
  }
 ],
 "metadata": {
  "kernelspec": {
   "display_name": "Python 3",
   "language": "python",
   "name": "python3"
  },
  "language_info": {
   "codemirror_mode": {
    "name": "ipython",
    "version": 3
   },
   "file_extension": ".py",
   "mimetype": "text/x-python",
   "name": "python",
   "nbconvert_exporter": "python",
   "pygments_lexer": "ipython3",
   "version": "3.8.5"
  }
 },
 "nbformat": 4,
 "nbformat_minor": 5
}
