{
 "cells": [
  {
   "cell_type": "markdown",
   "id": "e384ce15",
   "metadata": {},
   "source": [
    "# Origin\n",
    "In case it happened that I accomplished too little in ML solutions, I hope this might show at least that in addition to some ML knowledge, I know some of the most basic sorting algorithms."
   ]
  },
  {
   "cell_type": "markdown",
   "id": "9ce72b36",
   "metadata": {},
   "source": [
    "## Merge Sort"
   ]
  },
  {
   "cell_type": "code",
   "execution_count": 1,
   "id": "f0d7e40a",
   "metadata": {},
   "outputs": [],
   "source": [
    "class MergeSorter():\n",
    "    pass"
   ]
  },
  {
   "cell_type": "code",
   "execution_count": null,
   "id": "0f15a587",
   "metadata": {},
   "outputs": [],
   "source": []
  }
 ],
 "metadata": {
  "kernelspec": {
   "display_name": "Python 3",
   "language": "python",
   "name": "python3"
  },
  "language_info": {
   "codemirror_mode": {
    "name": "ipython",
    "version": 3
   },
   "file_extension": ".py",
   "mimetype": "text/x-python",
   "name": "python",
   "nbconvert_exporter": "python",
   "pygments_lexer": "ipython3",
   "version": "3.7.8"
  }
 },
 "nbformat": 4,
 "nbformat_minor": 5
}
