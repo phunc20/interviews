{
 "cells": [
  {
   "cell_type": "code",
   "execution_count": 2,
   "id": "d2960706",
   "metadata": {},
   "outputs": [
    {
     "data": {
      "text/plain": [
       "[0, 1, 3, 5, 7, 9]"
      ]
     },
     "execution_count": 2,
     "metadata": {},
     "output_type": "execute_result"
    }
   ],
   "source": [
    "L = [0,7,9,1,5,3]\n",
    "L.sort()\n",
    "L"
   ]
  },
  {
   "cell_type": "code",
   "execution_count": 5,
   "id": "87655094",
   "metadata": {},
   "outputs": [],
   "source": [
    "import tensorflow as tf\n",
    "import tensorflow.keras as keras\n",
    "import numpy as np"
   ]
  },
  {
   "cell_type": "code",
   "execution_count": 7,
   "id": "9003213a",
   "metadata": {},
   "outputs": [
    {
     "name": "stdout",
     "output_type": "stream",
     "text": [
      "sorted_indices = [0 3 5 4 1 2]\n",
      "L[sorted_indices] = [0 1 3 5 7 9]\n"
     ]
    }
   ],
   "source": [
    "L = [0,7,9,1,5,3]\n",
    "sorted_indices = np.argsort(L)\n",
    "print(f\"sorted_indices = {sorted_indices}\")\n",
    "print(f\"L[sorted_indices] = {np.array(L)[sorted_indices]}\")"
   ]
  },
  {
   "cell_type": "markdown",
   "id": "136ef5ec",
   "metadata": {},
   "source": [
    "# RNN or Sequential Models in General\n",
    "Sequential models can deal with input of arbitrary length no problem. However, as one dives deeper into conceiving\n",
    "a model, one would soon find out that the implementation details requires some design:\n",
    "\n",
    "01. If we only design a normal sequential model, it will still **suffer from a similar issue** when we wanted to use vanilla NN, i.e. although the input can be now be of arbitrary length, some of the sequential models can only have fixed-length output.\n",
    "  - In our case, i.e. **the output sequence length equals the input sequence length** [The sorted array's length should of course equal the original array's length], two models are particularly suited: **encoder-decoder** and **seq-to-seq** models.\n",
    "  - Seq-to-seq models might\n",
    "02. What kind of output should our sequential model produce?\n",
    "03. What should the loss function look like?\n",
    "04. Dataset."
   ]
  },
  {
   "cell_type": "code",
   "execution_count": null,
   "id": "5dc7330c",
   "metadata": {},
   "outputs": [],
   "source": []
  },
  {
   "cell_type": "markdown",
   "id": "c7e0a7de",
   "metadata": {},
   "source": [
    "## Dataset\n",
    "If we take every array into consideration, how many are there?<br>\n",
    "Well,\n",
    "\n",
    "- for length-2 arrays, there are `10*9` of them\n",
    "- for length-3 arrays, there are `10*9*8` of them\n",
    "- ...\n",
    "- for length-10 arrays, there are $10!$ of them\n",
    "\n",
    "Let's calculate their sum using Python."
   ]
  },
  {
   "cell_type": "code",
   "execution_count": 11,
   "id": "0cf5d2fa",
   "metadata": {},
   "outputs": [
    {
     "data": {
      "text/plain": [
       "[]"
      ]
     },
     "execution_count": 11,
     "metadata": {},
     "output_type": "execute_result"
    }
   ],
   "source": [
    "list(range(10,8))"
   ]
  },
  {
   "cell_type": "code",
   "execution_count": 12,
   "id": "a8ad23d3",
   "metadata": {},
   "outputs": [
    {
     "data": {
      "text/plain": [
       "[10, 9]"
      ]
     },
     "execution_count": 12,
     "metadata": {},
     "output_type": "execute_result"
    }
   ],
   "source": [
    "list(range(10,8,-1))"
   ]
  },
  {
   "cell_type": "code",
   "execution_count": 14,
   "id": "b9f5b75a",
   "metadata": {},
   "outputs": [],
   "source": [
    "import functools"
   ]
  },
  {
   "cell_type": "code",
   "execution_count": 19,
   "id": "9da1262b",
   "metadata": {},
   "outputs": [
    {
     "data": {
      "text/plain": [
       "720"
      ]
     },
     "execution_count": 19,
     "metadata": {},
     "output_type": "execute_result"
    }
   ],
   "source": [
    "functools.reduce(lambda x, y: x*y, range(10,7,-1))"
   ]
  },
  {
   "cell_type": "markdown",
   "id": "ccbdfd60",
   "metadata": {},
   "source": [
    "The following cell should give the right number."
   ]
  },
  {
   "cell_type": "code",
   "execution_count": 21,
   "id": "e71aea1b",
   "metadata": {},
   "outputs": [
    {
     "data": {
      "text/plain": [
       "9864090"
      ]
     },
     "execution_count": 21,
     "metadata": {},
     "output_type": "execute_result"
    }
   ],
   "source": [
    "sum([functools.reduce(lambda x, y: x*y, range(10,10-length,-1))\n",
    "     for length in range(2, 10+1)])"
   ]
  },
  {
   "cell_type": "markdown",
   "id": "5028dd67",
   "metadata": {},
   "source": [
    "I just wanted to have an estimate of the number of arrays we can have. Now, how should we generate and store our data for training?\n",
    "\n",
    "Let's first try with brute-force. Store the entire dataset into a dictionary with keys as any array and value as the sorted array."
   ]
  },
  {
   "cell_type": "code",
   "execution_count": 32,
   "id": "7b0f7362",
   "metadata": {},
   "outputs": [],
   "source": [
    "from itertools import combinations, permutations"
   ]
  },
  {
   "cell_type": "code",
   "execution_count": 26,
   "id": "2689d7b4",
   "metadata": {},
   "outputs": [],
   "source": [
    "S = set(range(0, 9+1))"
   ]
  },
  {
   "cell_type": "code",
   "execution_count": 33,
   "id": "be99abe1",
   "metadata": {},
   "outputs": [
    {
     "data": {
      "text/plain": [
       "[(0, 1),\n",
       " (0, 2),\n",
       " (0, 3),\n",
       " (0, 4),\n",
       " (0, 5),\n",
       " (0, 6),\n",
       " (0, 7),\n",
       " (0, 8),\n",
       " (0, 9),\n",
       " (1, 2),\n",
       " (1, 3),\n",
       " (1, 4),\n",
       " (1, 5),\n",
       " (1, 6),\n",
       " (1, 7),\n",
       " (1, 8),\n",
       " (1, 9),\n",
       " (2, 3),\n",
       " (2, 4),\n",
       " (2, 5),\n",
       " (2, 6),\n",
       " (2, 7),\n",
       " (2, 8),\n",
       " (2, 9),\n",
       " (3, 4),\n",
       " (3, 5),\n",
       " (3, 6),\n",
       " (3, 7),\n",
       " (3, 8),\n",
       " (3, 9),\n",
       " (4, 5),\n",
       " (4, 6),\n",
       " (4, 7),\n",
       " (4, 8),\n",
       " (4, 9),\n",
       " (5, 6),\n",
       " (5, 7),\n",
       " (5, 8),\n",
       " (5, 9),\n",
       " (6, 7),\n",
       " (6, 8),\n",
       " (6, 9),\n",
       " (7, 8),\n",
       " (7, 9),\n",
       " (8, 9)]"
      ]
     },
     "execution_count": 33,
     "metadata": {},
     "output_type": "execute_result"
    }
   ],
   "source": [
    "list(combinations(S, 2))"
   ]
  },
  {
   "cell_type": "code",
   "execution_count": 34,
   "id": "ad546a62",
   "metadata": {},
   "outputs": [
    {
     "data": {
      "text/plain": [
       "[(1, 2, 3), (1, 3, 2), (2, 1, 3), (2, 3, 1), (3, 1, 2), (3, 2, 1)]"
      ]
     },
     "execution_count": 34,
     "metadata": {},
     "output_type": "execute_result"
    }
   ],
   "source": [
    "list(permutations([1, 2, 3]))"
   ]
  },
  {
   "cell_type": "code",
   "execution_count": 30,
   "id": "72920f40",
   "metadata": {},
   "outputs": [
    {
     "data": {
      "text/plain": [
       "123.501"
      ]
     },
     "execution_count": 30,
     "metadata": {},
     "output_type": "execute_result"
    }
   ],
   "source": [
    "for i in [3.14, 2.7281, 123.501]:\n",
    "    pass\n",
    "i"
   ]
  },
  {
   "cell_type": "code",
   "execution_count": 43,
   "id": "525dc4aa",
   "metadata": {},
   "outputs": [
    {
     "data": {
      "text/plain": [
       "[1, 2, 3]"
      ]
     },
     "execution_count": 43,
     "metadata": {},
     "output_type": "execute_result"
    }
   ],
   "source": [
    "# note that it returns a list although the input is a tuple\n",
    "sorted((3,2,1))"
   ]
  },
  {
   "cell_type": "code",
   "execution_count": 50,
   "id": "b0e3885f",
   "metadata": {},
   "outputs": [
    {
     "name": "stdout",
     "output_type": "stream",
     "text": [
      "CPU times: user 6.56 s, sys: 914 ms, total: 7.47 s\n",
      "Wall time: 7.5 s\n"
     ]
    }
   ],
   "source": [
    "%%time\n",
    "# (key, value) of D will be of type (tuple, list)\n",
    "D = {}\n",
    "S = set(range(0, 9+1))\n",
    "for length in range(2, 10+1):\n",
    "    for c in itertools.combinations(S, length):\n",
    "        c_sorted = sorted(c)\n",
    "        for p in permutations(c):\n",
    "            D[p] = c_sorted"
   ]
  },
  {
   "cell_type": "markdown",
   "id": "69030411",
   "metadata": {},
   "source": [
    "Well, it took less time than I thought, even on an old laptop as Thinkpad X220 (Several seconds)."
   ]
  },
  {
   "cell_type": "code",
   "execution_count": 47,
   "id": "724658cc",
   "metadata": {},
   "outputs": [
    {
     "data": {
      "text/plain": [
       "9864090"
      ]
     },
     "execution_count": 47,
     "metadata": {},
     "output_type": "execute_result"
    }
   ],
   "source": [
    "len(D)"
   ]
  },
  {
   "cell_type": "code",
   "execution_count": 48,
   "id": "e71ae5fc",
   "metadata": {},
   "outputs": [
    {
     "data": {
      "text/plain": [
       "True"
      ]
     },
     "execution_count": 48,
     "metadata": {},
     "output_type": "execute_result"
    }
   ],
   "source": [
    "len(D) == sum([functools.reduce(lambda x, y: x*y, range(10,10-length,-1))\n",
    "     for length in range(2, 10+1)])"
   ]
  },
  {
   "cell_type": "markdown",
   "id": "27fd1612",
   "metadata": {},
   "source": [
    "To train on sequences of diff lengths, we must **batch sequences of identical lengths together**. This poses a new difficulty..."
   ]
  },
  {
   "cell_type": "markdown",
   "id": "b2aa3c8d",
   "metadata": {},
   "source": [
    "**Rmk**. Let's **use every single one of them as our training set** and **no test set**, because in this particular task, we care less about its generalization ability. If ever later on we care that, we can include arrays of a larger variety of numbers (e.g. all floating point numbers)."
   ]
  },
  {
   "cell_type": "markdown",
   "id": "c9be8f98",
   "metadata": {},
   "source": [
    "Since there are\n",
    "\n",
    "- `10*9` length-2 arrays\n",
    "- `10*9*8` length-3 arrays\n",
    "- ...\n",
    "\n",
    "We can set our batch size to be `10`, a common divisor of all the numbers above.\n",
    "\n",
    "**Rmk**. I have had no prior experience dealing with batches of different lengths of sequences. I referred to [this stackexchange post](https://datascience.stackexchange.com/questions/26366/training-an-rnn-with-examples-of-different-lengths-in-keras)."
   ]
  },
  {
   "cell_type": "code",
   "execution_count": 73,
   "id": "b80678c8",
   "metadata": {},
   "outputs": [
    {
     "data": {
      "text/plain": [
       "[4, 1, 2, 3, 5]"
      ]
     },
     "execution_count": 73,
     "metadata": {},
     "output_type": "execute_result"
    }
   ],
   "source": [
    "A = [1,2,3,4,5,]\n",
    "np.random.shuffle(A)\n",
    "A"
   ]
  },
  {
   "cell_type": "code",
   "execution_count": 80,
   "id": "f4b0d7fa",
   "metadata": {},
   "outputs": [
    {
     "data": {
      "text/plain": [
       "[6, 9, 3, 4, 5, 10, 8, 7, 2]"
      ]
     },
     "execution_count": 80,
     "metadata": {},
     "output_type": "execute_result"
    }
   ],
   "source": [
    "shuffled_lengths = list(range(2, 10+1))\n",
    "np.random.shuffle(shuffled_lengths)\n",
    "shuffled_lengths"
   ]
  },
  {
   "cell_type": "code",
   "execution_count": 81,
   "id": "21233163",
   "metadata": {},
   "outputs": [
    {
     "data": {
      "text/plain": [
       "array([[0.0e+000, 4.9e-324],\n",
       "       [1.5e-323, 2.5e-323],\n",
       "       [3.5e-323, 4.4e-323]])"
      ]
     },
     "execution_count": 81,
     "metadata": {},
     "output_type": "execute_result"
    }
   ],
   "source": [
    "np.empty((3,2))"
   ]
  },
  {
   "cell_type": "code",
   "execution_count": 82,
   "id": "8f4ac829",
   "metadata": {},
   "outputs": [],
   "source": [
    "n_classes = 10"
   ]
  },
  {
   "cell_type": "code",
   "execution_count": 103,
   "id": "17e84e3e",
   "metadata": {},
   "outputs": [
    {
     "data": {
      "text/plain": [
       "array([[[4.63981045e-310, 0.00000000e+000, 6.93715282e-310,\n",
       "         6.93715240e-310],\n",
       "        [6.93715240e-310, 6.93717494e-310, 6.93717494e-310,\n",
       "         6.93717494e-310],\n",
       "        [6.93714615e-310, 6.93714615e-310, 6.93714615e-310,\n",
       "         6.93714615e-310]],\n",
       "\n",
       "       [[0.00000000e+000, 1.00000000e+000, 2.00000000e+000,\n",
       "         3.00000000e+000],\n",
       "        [4.00000000e+000, 5.00000000e+000, 6.00000000e+000,\n",
       "         7.00000000e+000],\n",
       "        [8.00000000e+000, 9.00000000e+000, 1.00000000e+001,\n",
       "         1.10000000e+001]],\n",
       "\n",
       "       [[0.00000000e+000, 1.00000000e+000, 2.00000000e+000,\n",
       "         3.00000000e+000],\n",
       "        [4.00000000e+000, 5.00000000e+000, 6.00000000e+000,\n",
       "         7.00000000e+000],\n",
       "        [8.00000000e+000, 9.00000000e+000, 1.00000000e+001,\n",
       "         1.10000000e+001]]])"
      ]
     },
     "execution_count": 103,
     "metadata": {},
     "output_type": "execute_result"
    }
   ],
   "source": [
    "X = np.empty((3,3,4))\n",
    "X[1:, ...] = np.arange(3*4).reshape((3,4))\n",
    "X"
   ]
  },
  {
   "cell_type": "code",
   "execution_count": 96,
   "id": "d5c7d385",
   "metadata": {},
   "outputs": [],
   "source": [
    "def one_hot(array, depth=n_classes):\n",
    "    \"\"\"\n",
    "    array is an ndarray/list of shape (None,)\n",
    "    \"\"\"\n",
    "    return np.eye(depth)[array, :]"
   ]
  },
  {
   "cell_type": "code",
   "execution_count": 97,
   "id": "5b98ac1e",
   "metadata": {},
   "outputs": [
    {
     "data": {
      "text/plain": [
       "array([[1., 0., 0., 0., 0., 0., 0., 0., 0., 0.],\n",
       "       [0., 0., 0., 0., 1., 0., 0., 0., 0., 0.],\n",
       "       [0., 0., 0., 0., 0., 0., 0., 1., 0., 0.],\n",
       "       [0., 0., 0., 0., 0., 0., 0., 0., 0., 1.]])"
      ]
     },
     "execution_count": 97,
     "metadata": {},
     "output_type": "execute_result"
    }
   ],
   "source": [
    "c_sorted = np.array([0, 4, 7 ,9])\n",
    "one_hot(c_sorted)"
   ]
  },
  {
   "cell_type": "code",
   "execution_count": 98,
   "id": "24f583be",
   "metadata": {},
   "outputs": [
    {
     "data": {
      "text/plain": [
       "<tf.Tensor: shape=(4, 10), dtype=float32, numpy=\n",
       "array([[1., 0., 0., 0., 0., 0., 0., 0., 0., 0.],\n",
       "       [0., 0., 0., 0., 1., 0., 0., 0., 0., 0.],\n",
       "       [0., 0., 0., 0., 0., 0., 0., 1., 0., 0.],\n",
       "       [0., 0., 0., 0., 0., 0., 0., 0., 0., 1.]], dtype=float32)>"
      ]
     },
     "execution_count": 98,
     "metadata": {},
     "output_type": "execute_result"
    }
   ],
   "source": [
    "tf.one_hot(c_sorted, depth=n_classes)"
   ]
  },
  {
   "cell_type": "code",
   "execution_count": 113,
   "id": "70b9a590",
   "metadata": {},
   "outputs": [],
   "source": [
    "import math\n",
    "\n",
    "def train_generator(batch_size=10):\n",
    "    shuffled_lengths = list(range(2, 10+1))\n",
    "    np.random.shuffle(shuffled_lengths)\n",
    "    for length in shuffled_lengths:\n",
    "        n_instances = functools.reduce(lambda x, y: x*y, range(10,10-length,-1))\n",
    "        X = np.empty((n_instances, length, 1))\n",
    "        Y = np.empty((n_instances, length, n_classes))\n",
    "        n_permutations = math.factorial(length)\n",
    "        #n_combinations = n_instances // n_permutations\n",
    "        for i, c in enumerate(itertools.combinations(S, length)):\n",
    "            c_sorted = np.array(sorted(c))  # shape (length,)\n",
    "            c_onehot = one_hot(c_sorted)    # shape (length, n_classes)\n",
    "            Y[i*n_permutations : i*n_permutations + n_permutations, ...] = c_onehot\n",
    "            for j, p in enumerate(permutations(c)):\n",
    "                X[i*n_permutations : i*n_permutations + j, ...] = np.array(p)[..., np.newaxis]\n",
    "        # Throw one batch after another to the model\n",
    "        for k in range(n_instances // batch_size):\n",
    "            yield X[k*batch_size: (k+1)*batch_size], Y[k*batch_size: (k+1)*batch_size]"
   ]
  },
  {
   "cell_type": "raw",
   "id": "01365557",
   "metadata": {},
   "source": [
    "# For testing the above data generator\n",
    "for X, Y in train_generator():\n",
    "    print(f\"X.shape = {X.shape}\")\n",
    "    print(f\"Y.shape = {Y.shape}\")"
   ]
  },
  {
   "cell_type": "markdown",
   "id": "dddff4fb",
   "metadata": {},
   "source": [
    "## Seq-to-Seq Model\n",
    "This is the seq-to-seq model in which the output sequence's length equals the input sequence length. We had better used **bidirectional RNNs**."
   ]
  },
  {
   "cell_type": "raw",
   "id": "24f29e89",
   "metadata": {},
   "source": [
    "keras.layers.LSTM?"
   ]
  },
  {
   "cell_type": "code",
   "execution_count": 52,
   "id": "2baa4d74",
   "metadata": {},
   "outputs": [],
   "source": [
    "seq2seq_LSTM_model = keras.models.Sequential([\n",
    "    keras.layers.Bidirectional(keras.layers.LSTM(10, return_sequences=True, input_shape=[None, 1], dropout=0.2)),\n",
    "    keras.layers.LSTM(10, return_sequences=True, dropout=0.2),\n",
    "    #keras.layers.Bidirectional(keras.layers.LSTM(10, return_sequences=True, dropout=0.2)),\n",
    "    keras.layers.TimeDistributed(keras.layers.Dense(10, activation=\"softmax\")),\n",
    "])\n",
    "\n",
    "seq2seq_LSTM_model.compile(loss=\"sparse_categorical_crossentropy\", optimizer=\"adam\")"
   ]
  },
  {
   "cell_type": "raw",
   "id": "6ec1bbac",
   "metadata": {},
   "source": [
    "seq2seq_LSTM_model.fit_generator?"
   ]
  },
  {
   "cell_type": "code",
   "execution_count": null,
   "id": "440eaec2",
   "metadata": {},
   "outputs": [],
   "source": [
    "seq2seq_LSTM_model.fit(train_generator(), epochs=3)"
   ]
  },
  {
   "cell_type": "code",
   "execution_count": null,
   "id": "e7f692c5",
   "metadata": {},
   "outputs": [],
   "source": []
  }
 ],
 "metadata": {
  "kernelspec": {
   "display_name": "Python 3",
   "language": "python",
   "name": "python3"
  },
  "language_info": {
   "codemirror_mode": {
    "name": "ipython",
    "version": 3
   },
   "file_extension": ".py",
   "mimetype": "text/x-python",
   "name": "python",
   "nbconvert_exporter": "python",
   "pygments_lexer": "ipython3",
   "version": "3.7.8"
  }
 },
 "nbformat": 4,
 "nbformat_minor": 5
}
