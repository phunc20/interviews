{
 "cells": [
  {
   "cell_type": "code",
   "execution_count": 2,
   "id": "d2960706",
   "metadata": {},
   "outputs": [
    {
     "data": {
      "text/plain": [
       "[0, 1, 3, 5, 7, 9]"
      ]
     },
     "execution_count": 2,
     "metadata": {},
     "output_type": "execute_result"
    }
   ],
   "source": [
    "L = [0,7,9,1,5,3]\n",
    "L.sort()\n",
    "L"
   ]
  },
  {
   "cell_type": "code",
   "execution_count": 5,
   "id": "87655094",
   "metadata": {},
   "outputs": [],
   "source": [
    "import tensorflow as tf\n",
    "import tensorflow.keras as keras\n",
    "import numpy as np"
   ]
  },
  {
   "cell_type": "code",
   "execution_count": 7,
   "id": "9003213a",
   "metadata": {},
   "outputs": [
    {
     "name": "stdout",
     "output_type": "stream",
     "text": [
      "sorted_indices = [0 3 5 4 1 2]\n",
      "L[sorted_indices] = [0 1 3 5 7 9]\n"
     ]
    }
   ],
   "source": [
    "L = [0,7,9,1,5,3]\n",
    "sorted_indices = np.argsort(L)\n",
    "print(f\"sorted_indices = {sorted_indices}\")\n",
    "print(f\"L[sorted_indices] = {np.array(L)[sorted_indices]}\")"
   ]
  },
  {
   "cell_type": "markdown",
   "id": "136ef5ec",
   "metadata": {},
   "source": [
    "# RNN or Sequential Models in General\n",
    "Sequential models can deal with input of arbitrary length no problem. However, as one dives deeper into conceiving\n",
    "a model, one would soon find out that the implementation details requires some design:\n",
    "\n",
    "01. If we only design a normal sequential model, it will still **suffer from a similar issue** when we wanted to use vanilla NN, i.e. although the input can be now be of arbitrary length, some of the sequential models can only have fixed-length output.\n",
    "  - In our case, i.e. **the output sequence length equals the input sequence length** [The sorted array's length should of course equal the original array's length], two models are particularly suited: **encoder-decoder** and **seq-to-seq** models.\n",
    "  - Seq-to-seq models might\n",
    "02. What kind of output should our sequential model produce?\n",
    "03. What should the loss function look like?\n",
    "04. Dataset."
   ]
  },
  {
   "cell_type": "code",
   "execution_count": null,
   "id": "5dc7330c",
   "metadata": {},
   "outputs": [],
   "source": []
  },
  {
   "cell_type": "markdown",
   "id": "c7e0a7de",
   "metadata": {},
   "source": [
    "## Dataset\n",
    "If we take every array into consideration, how many are there?<br>\n",
    "Well,\n",
    "\n",
    "- for length-2 arrays, there are `10*9` of them\n",
    "- for length-3 arrays, there are `10*9*8` of them\n",
    "- ...\n",
    "- for length-10 arrays, there are $10!$ of them\n",
    "\n",
    "Let's calculate their sum using Python."
   ]
  },
  {
   "cell_type": "code",
   "execution_count": 11,
   "id": "0cf5d2fa",
   "metadata": {},
   "outputs": [
    {
     "data": {
      "text/plain": [
       "[]"
      ]
     },
     "execution_count": 11,
     "metadata": {},
     "output_type": "execute_result"
    }
   ],
   "source": [
    "list(range(10,8))"
   ]
  },
  {
   "cell_type": "code",
   "execution_count": 12,
   "id": "a8ad23d3",
   "metadata": {},
   "outputs": [
    {
     "data": {
      "text/plain": [
       "[10, 9]"
      ]
     },
     "execution_count": 12,
     "metadata": {},
     "output_type": "execute_result"
    }
   ],
   "source": [
    "list(range(10,8,-1))"
   ]
  },
  {
   "cell_type": "code",
   "execution_count": 14,
   "id": "b9f5b75a",
   "metadata": {},
   "outputs": [],
   "source": [
    "import functools"
   ]
  },
  {
   "cell_type": "code",
   "execution_count": 19,
   "id": "9da1262b",
   "metadata": {},
   "outputs": [
    {
     "data": {
      "text/plain": [
       "720"
      ]
     },
     "execution_count": 19,
     "metadata": {},
     "output_type": "execute_result"
    }
   ],
   "source": [
    "functools.reduce(lambda x, y: x*y, range(10,7,-1))"
   ]
  },
  {
   "cell_type": "markdown",
   "id": "ccbdfd60",
   "metadata": {},
   "source": [
    "The following cell should give the right number."
   ]
  },
  {
   "cell_type": "code",
   "execution_count": 21,
   "id": "e71aea1b",
   "metadata": {},
   "outputs": [
    {
     "data": {
      "text/plain": [
       "9864090"
      ]
     },
     "execution_count": 21,
     "metadata": {},
     "output_type": "execute_result"
    }
   ],
   "source": [
    "sum([functools.reduce(lambda x, y: x*y, range(10,10-length,-1))\n",
    "     for length in range(2, 10+1)])"
   ]
  },
  {
   "cell_type": "markdown",
   "id": "5028dd67",
   "metadata": {},
   "source": [
    "I just wanted to have an estimate of the number of arrays we can have. Now, how should we generate and store our data for training?\n",
    "\n",
    "Let's first try with brute-force. Store the entire dataset into a dictionary with keys as any array and value as the sorted array."
   ]
  },
  {
   "cell_type": "code",
   "execution_count": 32,
   "id": "7b0f7362",
   "metadata": {},
   "outputs": [],
   "source": [
    "from itertools import combinations, permutations"
   ]
  },
  {
   "cell_type": "code",
   "execution_count": 26,
   "id": "2689d7b4",
   "metadata": {},
   "outputs": [],
   "source": [
    "S = set(range(0, 9+1))"
   ]
  },
  {
   "cell_type": "code",
   "execution_count": 33,
   "id": "be99abe1",
   "metadata": {},
   "outputs": [
    {
     "data": {
      "text/plain": [
       "[(0, 1),\n",
       " (0, 2),\n",
       " (0, 3),\n",
       " (0, 4),\n",
       " (0, 5),\n",
       " (0, 6),\n",
       " (0, 7),\n",
       " (0, 8),\n",
       " (0, 9),\n",
       " (1, 2),\n",
       " (1, 3),\n",
       " (1, 4),\n",
       " (1, 5),\n",
       " (1, 6),\n",
       " (1, 7),\n",
       " (1, 8),\n",
       " (1, 9),\n",
       " (2, 3),\n",
       " (2, 4),\n",
       " (2, 5),\n",
       " (2, 6),\n",
       " (2, 7),\n",
       " (2, 8),\n",
       " (2, 9),\n",
       " (3, 4),\n",
       " (3, 5),\n",
       " (3, 6),\n",
       " (3, 7),\n",
       " (3, 8),\n",
       " (3, 9),\n",
       " (4, 5),\n",
       " (4, 6),\n",
       " (4, 7),\n",
       " (4, 8),\n",
       " (4, 9),\n",
       " (5, 6),\n",
       " (5, 7),\n",
       " (5, 8),\n",
       " (5, 9),\n",
       " (6, 7),\n",
       " (6, 8),\n",
       " (6, 9),\n",
       " (7, 8),\n",
       " (7, 9),\n",
       " (8, 9)]"
      ]
     },
     "execution_count": 33,
     "metadata": {},
     "output_type": "execute_result"
    }
   ],
   "source": [
    "list(combinations(S, 2))"
   ]
  },
  {
   "cell_type": "code",
   "execution_count": 34,
   "id": "ad546a62",
   "metadata": {},
   "outputs": [
    {
     "data": {
      "text/plain": [
       "[(1, 2, 3), (1, 3, 2), (2, 1, 3), (2, 3, 1), (3, 1, 2), (3, 2, 1)]"
      ]
     },
     "execution_count": 34,
     "metadata": {},
     "output_type": "execute_result"
    }
   ],
   "source": [
    "list(permutations([1, 2, 3]))"
   ]
  },
  {
   "cell_type": "code",
   "execution_count": 30,
   "id": "72920f40",
   "metadata": {},
   "outputs": [
    {
     "data": {
      "text/plain": [
       "123.501"
      ]
     },
     "execution_count": 30,
     "metadata": {},
     "output_type": "execute_result"
    }
   ],
   "source": [
    "for i in [3.14, 2.7281, 123.501]:\n",
    "    pass\n",
    "i"
   ]
  },
  {
   "cell_type": "code",
   "execution_count": 43,
   "id": "525dc4aa",
   "metadata": {},
   "outputs": [
    {
     "data": {
      "text/plain": [
       "[1, 2, 3]"
      ]
     },
     "execution_count": 43,
     "metadata": {},
     "output_type": "execute_result"
    }
   ],
   "source": [
    "# note that it returns a list although the input is a tuple\n",
    "sorted((3,2,1))"
   ]
  },
  {
   "cell_type": "code",
   "execution_count": 50,
   "id": "b0e3885f",
   "metadata": {},
   "outputs": [
    {
     "name": "stdout",
     "output_type": "stream",
     "text": [
      "CPU times: user 6.56 s, sys: 914 ms, total: 7.47 s\n",
      "Wall time: 7.5 s\n"
     ]
    }
   ],
   "source": [
    "%%time\n",
    "# (key, value) of D will be of type (tuple, list)\n",
    "D = {}\n",
    "S = set(range(0, 9+1))\n",
    "for length in range(2, 10+1):\n",
    "    for c in itertools.combinations(S, length):\n",
    "        c_sorted = sorted(c)\n",
    "        for p in permutations(c):\n",
    "            D[p] = c_sorted"
   ]
  },
  {
   "cell_type": "markdown",
   "id": "69030411",
   "metadata": {},
   "source": [
    "Well, it took less time than I thought, even on an old laptop as Thinkpad X220 (Several seconds)."
   ]
  },
  {
   "cell_type": "code",
   "execution_count": 47,
   "id": "724658cc",
   "metadata": {},
   "outputs": [
    {
     "data": {
      "text/plain": [
       "9864090"
      ]
     },
     "execution_count": 47,
     "metadata": {},
     "output_type": "execute_result"
    }
   ],
   "source": [
    "len(D)"
   ]
  },
  {
   "cell_type": "code",
   "execution_count": 48,
   "id": "e71ae5fc",
   "metadata": {},
   "outputs": [
    {
     "data": {
      "text/plain": [
       "True"
      ]
     },
     "execution_count": 48,
     "metadata": {},
     "output_type": "execute_result"
    }
   ],
   "source": [
    "len(D) == sum([functools.reduce(lambda x, y: x*y, range(10,10-length,-1))\n",
    "     for length in range(2, 10+1)])"
   ]
  },
  {
   "cell_type": "markdown",
   "id": "4555f417",
   "metadata": {},
   "source": [
    "To train on sequences of diff lengths, we must **batch sequences of identical lengths together**. This poses a new difficulty..."
   ]
  },
  {
   "cell_type": "markdown",
   "id": "01226b0e",
   "metadata": {},
   "source": [
    "**Rmk**. Let's **use every single one of them as our training set** and **no test set**, because in this particular task, we care less about its generalization ability. If ever later on we care that, we can include arrays of a larger variety of numbers (e.g. all floating point numbers)."
   ]
  },
  {
   "cell_type": "markdown",
   "id": "5e0c471a",
   "metadata": {},
   "source": [
    "Since there are\n",
    "\n",
    "- `10*9` length-2 arrays\n",
    "- `10*9*8` length-3 arrays\n",
    "- ...\n",
    "\n",
    "We can set our batch size to be `10`, a common divisor of all the numbers above."
   ]
  },
  {
   "cell_type": "code",
   "execution_count": null,
   "id": "511c98a8",
   "metadata": {},
   "outputs": [],
   "source": []
  },
  {
   "cell_type": "markdown",
   "id": "dddff4fb",
   "metadata": {},
   "source": [
    "## Seq-to-Seq Model\n",
    "This is the seq-to-seq model in which the output sequence's length equals the input sequence length. We had better used **bidirectional RNNs**."
   ]
  },
  {
   "cell_type": "code",
   "execution_count": null,
   "id": "440eaec2",
   "metadata": {},
   "outputs": [],
   "source": []
  },
  {
   "cell_type": "code",
   "execution_count": null,
   "id": "e7f692c5",
   "metadata": {},
   "outputs": [],
   "source": []
  }
 ],
 "metadata": {
  "kernelspec": {
   "display_name": "Python 3",
   "language": "python",
   "name": "python3"
  },
  "language_info": {
   "codemirror_mode": {
    "name": "ipython",
    "version": 3
   },
   "file_extension": ".py",
   "mimetype": "text/x-python",
   "name": "python",
   "nbconvert_exporter": "python",
   "pygments_lexer": "ipython3",
   "version": "3.7.8"
  }
 },
 "nbformat": 4,
 "nbformat_minor": 5
}
